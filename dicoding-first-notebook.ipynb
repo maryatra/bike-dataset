{
 "cells": [
  {
   "cell_type": "markdown",
   "metadata": {},
   "source": [
    "# Proyek Analisis Data: Bike Sharing Dataset\n",
    "- **Nama:** Muhammad Surya Putra\n",
    "- **Email:** muhammadsuryaputra3@gmail.com\n",
    "- **ID Dicoding:** Muhammad Surya Putra"
   ]
  },
  {
   "cell_type": "markdown",
   "metadata": {},
   "source": [
    "## Menentukan Pertanyaan Bisnis\n",
    "\n",
    "- Pertanyaan 1: Bagaimana distribusi peminjaman untuk masing-masing musim dan kondisi cuaca?\n",
    "- Pertanyaan 2: Pengaruh hari kerja/ akhir pekan terhadap peminjaman untuk setiap musim?"
   ]
  },
  {
   "cell_type": "markdown",
   "metadata": {},
   "source": [
    "## Import library yang diperlukan"
   ]
  },
  {
   "cell_type": "code",
   "execution_count": 60,
   "metadata": {},
   "outputs": [],
   "source": [
    "# Import library yang diperlukan\n",
    "import streamlit as st\n",
    "import pandas as pd\n",
    "import seaborn as sns\n",
    "import matplotlib.pyplot as plt"
   ]
  },
  {
   "cell_type": "markdown",
   "metadata": {},
   "source": [
    "## Fungsi untuk mengimpor data"
   ]
  },
  {
   "cell_type": "code",
   "execution_count": 66,
   "metadata": {},
   "outputs": [
    {
     "name": "stderr",
     "output_type": "stream",
     "text": [
      "2024-03-11 19:07:54.524 No runtime found, using MemoryCacheStorageManager\n"
     ]
    }
   ],
   "source": [
    "# Fungsi untuk mengimpor data\n",
    "@st.cache_data\n",
    "def load_data():\n",
    "    data_df = pd.read_csv('day.csv')\n",
    "    return data_df"
   ]
  },
  {
   "cell_type": "markdown",
   "metadata": {},
   "source": [
    "##  Fungsi untuk melakukan pembersihan data"
   ]
  },
  {
   "cell_type": "code",
   "execution_count": 67,
   "metadata": {},
   "outputs": [],
   "source": [
    "# Fungsi untuk melakukan pembersihan data\n",
    "def clean_data(data_df):\n",
    "    data_df['season'] = data_df['season'].map({1: 'Spring', 2: 'Summer', 3: 'Fall', 4: 'Winter'})\n",
    "    return data_df"
   ]
  },
  {
   "cell_type": "markdown",
   "metadata": {},
   "source": [
    "## Fungsi untuk menampilkan data wrangling"
   ]
  },
  {
   "cell_type": "code",
   "execution_count": 63,
   "metadata": {},
   "outputs": [],
   "source": [
    "# Fungsi untuk menampilkan data wrangling\n",
    "def data_wrangling(data_df):\n",
    "    st.subheader(\"Data Wrangling\")\n",
    "    \n",
    "    st.subheader(\"Gathering Data\")\n",
    "    st.write(\"Berikut merupakan dataset dari Bike Sharing pada skala hari\")\n",
    "    st.write(data_df)\n",
    "\n",
    "    st.subheader(\"Assessing Data\")\n",
    "    st.write(\"Melakukan pemeriksaan parameter statistik menggunakan metode describe()\")\n",
    "    st.write(data_df.describe())\n",
    "\n",
    "    st.subheader(\"Cleaning Data\")\n",
    "    st.write(\"Mengubah nilai dari parameter 'season' menjadi nama musim\")\n",
    "    cleaned_data_df = clean_data(data_df.copy())\n",
    "    st.write(cleaned_data_df)"
   ]
  },
  {
   "cell_type": "markdown",
   "metadata": {},
   "source": [
    "# Fungsi untuk menjawab pertanyaan EDA"
   ]
  },
  {
   "cell_type": "code",
   "execution_count": 72,
   "metadata": {},
   "outputs": [],
   "source": [
    "# Fungsi untuk menjawab pertanyaan EDA\n",
    "def eda_questions(data_df):\n",
    "    st.subheader('Exploratory Data Analysis (EDA)')\n",
    "    \n",
    "    st.subheader('Pertanyaan 1')\n",
    "    st.write(\"Bagaimana distribusi peminjaman untuk masing-masing musim dan kondisi cuaca?\")\n",
    "    st.write('')\n",
    "    st.write(\"Melakukan pemetaan tabel menggunakan pivot table\")\n",
    "    data_df['season'] = data_df['season'].map({1: 'Spring', 2: 'Summer', 3: 'Fall', 4: 'Winter'})\n",
    "    data_musim = data_df.groupby(by=[\"season\", \"weathersit\"]).agg({\n",
    "        \"casual\": \"nunique\",\n",
    "        \"registered\": \"nunique\"\n",
    "    })\n",
    "    st.write(data_musim)\n",
    "    st.write('Grafik')\n",
    "    data_musim['total'] = data_musim['casual'] + data_musim['registered']\n",
    "    fig, ax = plt.subplots()\n",
    "    sns.barplot(data=data_musim, x=\"season\", y=\"total\", hue=\"weathersit\", errorbar=None, ax=ax)\n",
    "    st.pyplot(fig)\n",
    "\n",
    "    st.subheader('Pertanyaan 2')\n",
    "    st.write(\"Pengaruh hari kerja/ akhir pekan terhadap peminjaman untuk setiap musim?\")\n",
    "    st.write('')\n",
    "    st.write(\"Melakukan pemetaan tabel menggunakan pivot table\")\n",
    "    data_holiday = data_df.groupby(by=\"season\").agg({\n",
    "        \"casual\": \"nunique\",\n",
    "        \"registered\": \"nunique\",\n",
    "    })\n",
    "    st.write(data_holiday)\n",
    "    st.write('Grafik')\n",
    "    data_holiday['total'] = data_holiday['casual'] + data_holiday['registered']\n",
    "    fig, ax = plt.subplots()\n",
    "    sns.scatterplot(data=data_holiday, x='season', y='casual', ax=ax)\n",
    "    sns.scatterplot(data=data_holiday, x='season', y='registered', ax=ax)\n",
    "    ax.set_ylim(150, 190)\n",
    "    st.pyplot(fig)\n",
    "    \n",
    "    # Kesimpulan Pertanyaan 1\n",
    "    st.subheader('Kesimpulan Pertanyaan 1:')\n",
    "    total_rental_per_season = data_df.groupby('season')[['casual', 'registered']].sum()  # Menggunakan sum untuk mendapatkan jumlah total peminjaman\n",
    "    st.write(\"Berdasarkan analisis, terlihat bahwa distribusi peminjaman berbeda-beda untuk setiap musim dan kondisi cuaca.\")\n",
    "    st.write(\"Total peminjaman untuk masing-masing musim:\")\n",
    "    st.write(total_rental_per_season)\n",
    "    \n",
    "    max_season = total_rental_per_season.sum(axis=1).idxmax()  # Menggunakan sum(axis=1) untuk mendapatkan total peminjaman\n",
    "    min_season = total_rental_per_season.sum(axis=1).idxmin()  # Menggunakan sum(axis=1) untuk mendapatkan total peminjaman\n",
    "    \n",
    "    seasons_map = {'Spring': 'Spring (Musim Semi)', 'Summer': 'Summer (Musim Panas)', 'Fall': 'Fall (Musim Gugur)', 'Winter': 'Winter (Musim Dingin)'}\n",
    "    \n",
    "    st.write(f\"Peminjam terbanyak berada pada {seasons_map[max_season]} dan peminjam paling sedikit berada pada {seasons_map[min_season]}.\")\n",
    "    \n",
    "    # Kesimpulan Pertanyaan 2\n",
    "    st.subheader('Kesimpulan Pertanyaan 2:')\n",
    "    weekday_vs_weekend = data_df.groupby('weekday')['cnt'].sum()\n",
    "    st.write(\"Berdasarkan analisis, terdapat hubungan antara hari kerja/akhir pekan dengan jumlah peminjaman untuk setiap musim.\")\n",
    "    st.write(\"Total peminjaman pada hari kerja vs akhir pekan:\")\n",
    "    st.write(weekday_vs_weekend)\n",
    "    \n",
    "    max_day = weekday_vs_weekend.idxmax()\n",
    "    min_day = weekday_vs_weekend.idxmin()\n",
    "    \n",
    "    days_map = {0: 'Minggu', 1: 'Senin', 2: 'Selasa', 3: 'Rabu', 4: 'Kamis', 5: 'Jumat', 6: 'Sabtu'}\n",
    "    st.write(f\"Peminjam terbanyak berada pada hari {days_map[max_day]} dan peminjam paling sedikit berada pada hari {days_map[min_day]}.\")\n",
    "    \n",
    "def main():\n",
    "    st.title('Analisis Data Bike Sharing')\n",
    "    data_df = load_data()\n",
    "    \n",
    "    menu = [\"Data Wrangling\", \"Exploratory Data Analysis (EDA)\"]\n",
    "    choice = st.sidebar.selectbox(\"Pilihan Menu\", menu)\n",
    "    if choice == \"Data Wrangling\":\n",
    "        data_wrangling(data_df)\n",
    "    elif choice == \"Exploratory Data Analysis (EDA)\":\n",
    "        eda_questions(data_df)\n",
    "        \n",
    "    if __name__ == \"__main__\":\n",
    "        main() "
   ]
  }
 ],
 "metadata": {
  "kernelspec": {
   "display_name": ".venv",
   "language": "python",
   "name": "python3"
  },
  "language_info": {
   "codemirror_mode": {
    "name": "ipython",
    "version": 3
   },
   "file_extension": ".py",
   "mimetype": "text/x-python",
   "name": "python",
   "nbconvert_exporter": "python",
   "pygments_lexer": "ipython3",
   "version": "3.12.2"
  }
 },
 "nbformat": 4,
 "nbformat_minor": 2
}
